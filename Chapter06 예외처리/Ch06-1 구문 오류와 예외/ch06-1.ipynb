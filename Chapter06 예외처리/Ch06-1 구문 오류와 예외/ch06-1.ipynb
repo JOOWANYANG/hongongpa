{
 "cells": [
  {
   "cell_type": "markdown",
   "metadata": {},
   "source": [
    "### 06-1 구문 오류와 예외   \n",
    "---\n",
    "***에러(error)*** 의 발생과 처리"
   ]
  },
  {
   "cell_type": "code",
   "execution_count": null,
   "metadata": {},
   "outputs": [],
   "source": [
    "# 1. 컴파일 에러(syntax error) : 실행 전에 발생하는 문법오류\n",
    "# 2. 런타임 에러(runtime error) : 실행 시에 발생하는 오류 ex) 예외(Exception)\n",
    "# 3. 논리 에러(logic,semantic error) :\n",
    "#         결과가 예상과 달리 의도한 작업을 수행하지 못함(에러 메시지가 없어 수정 시 어려움)"
   ]
  },
  {
   "cell_type": "markdown",
   "metadata": {},
   "source": [
    "> 구문 오류"
   ]
  },
  {
   "cell_type": "code",
   "execution_count": 2,
   "metadata": {},
   "outputs": [
    {
     "ename": "SyntaxError",
     "evalue": "invalid syntax (Temp/ipykernel_12052/2572134485.py, line 1)",
     "output_type": "error",
     "traceback": [
      "\u001b[1;36m  File \u001b[1;32m\"C:\\Users\\ruior\\AppData\\Local\\Temp/ipykernel_12052/2572134485.py\"\u001b[1;36m, line \u001b[1;32m1\u001b[0m\n\u001b[1;33m    int i = 0;\u001b[0m\n\u001b[1;37m        ^\u001b[0m\n\u001b[1;31mSyntaxError\u001b[0m\u001b[1;31m:\u001b[0m invalid syntax\n"
     ]
    }
   ],
   "source": [
    "# 컴파일 에러\n",
    "int i = 0;\n",
    "\n",
    "if i > 0\n",
    "    print(i)"
   ]
  },
  {
   "cell_type": "markdown",
   "metadata": {},
   "source": [
    "> 예외(exception)"
   ]
  },
  {
   "cell_type": "code",
   "execution_count": 4,
   "metadata": {},
   "outputs": [
    {
     "name": "stdout",
     "output_type": "stream",
     "text": [
      "프로그렘이 시작되었습니다.\n"
     ]
    },
    {
     "ename": "ZeroDivisionError",
     "evalue": "float division by zero",
     "output_type": "error",
     "traceback": [
      "\u001b[1;31m---------------------------------------------------------------------------\u001b[0m",
      "\u001b[1;31mZeroDivisionError\u001b[0m                         Traceback (most recent call last)",
      "\u001b[1;32m~\\AppData\\Local\\Temp/ipykernel_12052/2958776073.py\u001b[0m in \u001b[0;36m<module>\u001b[1;34m\u001b[0m\n\u001b[0;32m      2\u001b[0m \u001b[1;33m\u001b[0m\u001b[0m\n\u001b[0;32m      3\u001b[0m \u001b[0mi\u001b[0m \u001b[1;33m=\u001b[0m \u001b[1;36m0\u001b[0m\u001b[1;33m\u001b[0m\u001b[1;33m\u001b[0m\u001b[0m\n\u001b[1;32m----> 4\u001b[1;33m \u001b[0mresult\u001b[0m \u001b[1;33m=\u001b[0m \u001b[1;36m3.14\u001b[0m \u001b[1;33m/\u001b[0m \u001b[0mi\u001b[0m\u001b[1;33m\u001b[0m\u001b[1;33m\u001b[0m\u001b[0m\n\u001b[0m",
      "\u001b[1;31mZeroDivisionError\u001b[0m: float division by zero"
     ]
    }
   ],
   "source": [
    "print(\"프로그렘이 시작되었습니다.\")\n",
    "\n",
    "i = 0\n",
    "result = 3.14 / i # ZeroDivisionError\n",
    "\n",
    "print(\"프로그렘이 종료되었습니다.\")"
   ]
  },
  {
   "cell_type": "markdown",
   "metadata": {},
   "source": [
    "> 기본 예외 처리(exception handling)"
   ]
  },
  {
   "cell_type": "code",
   "execution_count": 7,
   "metadata": {},
   "outputs": [
    {
     "name": "stdout",
     "output_type": "stream",
     "text": [
      "프로그렘 시작\n",
      "9의 제곱근은 3.0입니다.\n",
      "프로그렘 종료\n"
     ]
    }
   ],
   "source": [
    "print(\"프로그렘 시작\")\n",
    "\n",
    "user_input = input(\"입력한 정수의 제곱근을 구합니다 : \")\n",
    "if user_input.isdigit():\n",
    "    print(f\"{user_input}의 제곱근은 {int(user_input)**(1/2)}입니다.\")\n",
    "else:\n",
    "    print(\"정수가 아닙니다. 프로그렘을 종료합니다.\")\n",
    "\n",
    "print(\"프로그렘 종료\")"
   ]
  },
  {
   "cell_type": "markdown",
   "metadata": {},
   "source": [
    "> try ~ except : 우아하게 예외처리 다루기"
   ]
  },
  {
   "cell_type": "code",
   "execution_count": 8,
   "metadata": {},
   "outputs": [
    {
     "name": "stdout",
     "output_type": "stream",
     "text": [
      "프로그렘이 시작되었습니다.\n",
      "예외가 발생되었습니다. float division by zero\n",
      "프로그렘이 종료되었습니다.\n"
     ]
    }
   ],
   "source": [
    "print(\"프로그렘이 시작되었습니다.\")\n",
    "\n",
    "i = 0\n",
    "pi = 3.141592\n",
    "\n",
    "try:\n",
    "    # 예외가 발생할 가능성이 있는 코드\n",
    "    result = pi / i\n",
    "except ZeroDivisionError as ex:\n",
    "    # 예외 해당되는 처리 코드 작성\n",
    "    print(\"예외가 발생되었습니다.\", ex)\n",
    "\n",
    "\n",
    "print(\"프로그렘이 종료되었습니다.\")"
   ]
  },
  {
   "cell_type": "code",
   "execution_count": null,
   "metadata": {},
   "outputs": [],
   "source": [
    "print(\"프로그렘이 시작되었습니다.\")\n",
    "\n",
    "list_txt = [\"52\", \"273\", \"A\", \"파이썬\", \"103\"]\n",
    "numbers = []\n",
    "\n",
    "for i in list_txt:\n",
    "    try:\n",
    "        float(i)\n",
    "        numbers.append(i)\n",
    "    except Exception as ex:\n",
    "        print(\"예외발생\", str(ex))\n",
    "        # pass\n",
    "\n",
    "print(numbers)\n",
    "\n",
    "print(\"프로그렘이 시작되었습니다.\")"
   ]
  },
  {
   "cell_type": "markdown",
   "metadata": {},
   "source": [
    "> try ~ except ~ except ~ except ~ ....... : 예외는 무한정 예측할 수 있음"
   ]
  },
  {
   "cell_type": "code",
   "execution_count": 35,
   "metadata": {},
   "outputs": [
    {
     "name": "stdout",
     "output_type": "stream",
     "text": [
      "형변환 에러! invalid literal for int() with base 10: '가'\n"
     ]
    }
   ],
   "source": [
    "index = [0, 1, 2]\n",
    "\n",
    "try:\n",
    "    index[0] =  1\n",
    "    result = index[1] / index[0]\n",
    "    int(\"가\")\n",
    "except ZeroDivisionError as ez:\n",
    "    print(\"인덱스 에러 발생: \", str(ez))\n",
    "except IndexError as ei:\n",
    "    print(\"0 으로 나눌수 없습니다! \", str(ei))\n",
    "except ValueError as ev:\n",
    "    print(\"형변환 에러!\", str(ev))\n",
    "except Exception as ex:\n",
    "    print(type(ex), ex)"
   ]
  },
  {
   "cell_type": "markdown",
   "metadata": {},
   "source": [
    "> try ~ except ~ else"
   ]
  },
  {
   "cell_type": "code",
   "execution_count": 39,
   "metadata": {},
   "outputs": [
    {
     "name": "stdout",
     "output_type": "stream",
     "text": [
      "정수 입력 예외발생 invalid literal for int() with base 10: '1.2'\n"
     ]
    }
   ],
   "source": [
    "try:\n",
    "    number_input = int(input(\"정수 입력 :\"))\n",
    "except Exception as e:\n",
    "    print(\"정수 입력 예외발생\", str(e))\n",
    "else:\n",
    "    print(number_input * 100)"
   ]
  },
  {
   "cell_type": "markdown",
   "metadata": {},
   "source": [
    "> finally 구문"
   ]
  },
  {
   "cell_type": "code",
   "execution_count": 57,
   "metadata": {},
   "outputs": [
    {
     "name": "stdout",
     "output_type": "stream",
     "text": [
      "입력값은 0입니다.\n",
      "0\n",
      "else의 에외 list index out of range\n",
      "프로그렘 종료합니다.\n"
     ]
    }
   ],
   "source": [
    "index = []\n",
    "try:\n",
    "    number_input = int(input(\"Enter integar > \"))\n",
    "except Exception as ex:\n",
    "    print(\"입력 오류입니다.\", ex)\n",
    "else:\n",
    "    print(\"입력값은 %d입니다.\" % number_input)\n",
    "    index.append(number_input)\n",
    "    try:\n",
    "        for i in range(3):print(index[i])\n",
    "    except Exception as e:\n",
    "        print(\"else의 에외\", str(e))\n",
    "# finally 예외가 발생하던지 않든지\n",
    "finally:\n",
    "    print(\"프로그렘 종료합니다.\")"
   ]
  },
  {
   "cell_type": "code",
   "execution_count": null,
   "metadata": {},
   "outputs": [],
   "source": [
    "file_name = \"basic.txt\"\n",
    "file_path = \"../../soruce/\"\n",
    "\n",
    "try:\n",
    "    # 파일이 없는 경우\n",
    "    # USB 파일을 읽는 중 제거한 경우\n",
    "    #\n",
    "    to = open(file_path + file_name, 'rt', encoding ='utf-8')\n",
    "    to.read()\n",
    "    to.close() # 호출 안 될 가능성이 있음\n",
    "except Exception as e:\n",
    "    print(str(e))\n",
    "\n"
   ]
  },
  {
   "cell_type": "code",
   "execution_count": 58,
   "metadata": {},
   "outputs": [
    {
     "name": "stdout",
     "output_type": "stream",
     "text": [
      "test() 시작\n",
      "1......\n",
      "finally.......\n"
     ]
    }
   ],
   "source": [
    "# finally VS return\n",
    "def test():\n",
    "    print(\"test() 시작\")\n",
    "    try:\n",
    "        print(\"1......\")\n",
    "        return\n",
    "        print(\"2......\")\n",
    "    except: print(\"except.......\")\n",
    "    else: print(\"else......\")\n",
    "    finally: print(\"finally.......\") # finally 는 에러가 나던 말던 무조건 실행됨\n",
    "    print(\"test() 끝\")\n",
    "\n",
    "test()"
   ]
  },
  {
   "cell_type": "code",
   "execution_count": null,
   "metadata": {},
   "outputs": [],
   "source": [
    "# finally VS break\n",
    "while True:\n",
    "    try:\n",
    "        print(\"try 1....\")\n",
    "        print(\"try 2....\")\n",
    "        break\n",
    "        print(\"try 3....\")\n",
    "    "
   ]
  }
 ],
 "metadata": {
  "interpreter": {
   "hash": "054c0b5073ae8ed56926c5c67113945079b283bacf1a269ae7086b3d9eebd60c"
  },
  "kernelspec": {
   "display_name": "Python 3.10.1 64-bit",
   "language": "python",
   "name": "python3"
  },
  "language_info": {
   "codemirror_mode": {
    "name": "ipython",
    "version": 3
   },
   "file_extension": ".py",
   "mimetype": "text/x-python",
   "name": "python",
   "nbconvert_exporter": "python",
   "pygments_lexer": "ipython3",
   "version": "3.10.1"
  },
  "orig_nbformat": 4
 },
 "nbformat": 4,
 "nbformat_minor": 2
}
