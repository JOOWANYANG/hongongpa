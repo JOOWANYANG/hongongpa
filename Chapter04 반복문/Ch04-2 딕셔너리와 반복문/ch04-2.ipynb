{
 "cells": [
  {
   "cell_type": "markdown",
   "metadata": {},
   "source": [
    "> for 반복문(looping)"
   ]
  },
  {
   "cell_type": "code",
   "execution_count": 4,
   "metadata": {},
   "outputs": [
    {
     "name": "stdout",
     "output_type": "stream",
     "text": [
      "0 Hello World\n",
      "1 Hello World\n",
      "2 Hello World\n",
      "3 Hello World\n",
      "4 Hello World\n",
      "5 Hello World\n",
      "6 Hello World\n",
      "7 Hello World\n",
      "8 Hello World\n",
      "9 Hello World\n"
     ]
    }
   ],
   "source": [
    "#for(int i = 0; i < 10; i++){\n",
    "#         System.out.println(i + \"for\");\n",
    "#}\n",
    "for i in range(10):\n",
    "    print(i, \"Hello World\")"
   ]
  },
  {
   "cell_type": "code",
   "execution_count": 13,
   "metadata": {},
   "outputs": [
    {
     "name": "stdout",
     "output_type": "stream",
     "text": [
      "90 85 70 55 95 60 75 \n",
      "L, i, f, e,  , i, s,  , t, o, o,  , s, h, o, r, t, ,,  , Y, o, u,  , n, e, e, d,  , P, y, t, h, o, n, ., \n",
      "자연수 1~10 총합 : 55\n"
     ]
    }
   ],
   "source": [
    "# for 반복자 in 반복할 수 있는 객체:\n",
    "#           실행코드\n",
    "\n",
    "records = [90, 85, 70, 55, 95, 60, 75]\n",
    "\n",
    "for score in records:\n",
    "    print(score, end =' ')\n",
    "\n",
    "print()\n",
    "\n",
    "for s in \"Life is too short, You need Python.\":\n",
    "    print(s, end =', ')\n",
    "\n",
    "print()\n",
    "# 1 ~ 10 까지의 자연수 총합 구하기\n",
    "natural_numbers = [1, 2, 3, 4, 5, 6, 7, 8 ,9, 10]\n",
    "total = 0\n",
    "for num in natural_numbers:\n",
    "    total += num\n",
    "\n",
    "print(\"자연수 1~10 총합 :\", total)"
   ]
  },
  {
   "cell_type": "markdown",
   "metadata": {},
   "source": [
    "> 아래의 성적 레코드의 최고, 최저, 총점, 평균을 구하는 프로그램 : record.py\n"
   ]
  },
  {
   "cell_type": "code",
   "execution_count": 25,
   "metadata": {},
   "outputs": [
    {
     "name": "stdout",
     "output_type": "stream",
     "text": [
      "평  균 : 76.42857142857143\n",
      "총  점 : 1605\n",
      "최솟값 : 55\n",
      "최댓값 : 95\n"
     ]
    }
   ],
   "source": [
    "records = [90, 85, 70, 55, 95 ,60, 80, 90, 85, 70, 55, 95, 60, 80, 90, 85, 70, 55, 95, 60, 80]\n",
    "\n",
    "# 평균\n",
    "result = 0\n",
    "for i in records:\n",
    "    result += i\n",
    "print(\"평  균 :\", result / len(records))\n",
    "\n",
    "# 총점\n",
    "total = 0\n",
    "for num in records:\n",
    "    total += num\n",
    "print(\"총  점 :\", total)\n",
    "\n",
    "# 최솟값\n",
    "smallest = records[0]\n",
    "for i in records:\n",
    "    if i < smallest:\n",
    "        smallest = i\n",
    "print(\"최솟값 :\", smallest)\n",
    "\n",
    "# 최댓값\n",
    "large = records[0]\n",
    "for i in records:\n",
    "    if i > large:\n",
    "        large = i\n",
    "print(\"최댓값 :\", large)\n"
   ]
  },
  {
   "cell_type": "markdown",
   "metadata": {},
   "source": [
    "> 아래와 같이 실행 결과가 나오는 프로그렘 작성 : digit.py"
   ]
  },
  {
   "cell_type": "code",
   "execution_count": 54,
   "metadata": {},
   "outputs": [
    {
     "name": "stdout",
     "output_type": "stream",
     "text": [
      "273의 자릿수는 3자릿수 입니다,\n",
      "103의 자릿수는 3자릿수 입니다,\n",
      "5의 자릿수는 1자릿수 입니다,\n",
      "32의 자릿수는 2자릿수 입니다,\n",
      "65의 자릿수는 2자릿수 입니다,\n",
      "9의 자릿수는 1자릿수 입니다,\n",
      "72의 자릿수는 2자릿수 입니다,\n",
      "800의 자릿수는 3자릿수 입니다,\n",
      "99의 자릿수는 2자릿수 입니다,\n"
     ]
    }
   ],
   "source": [
    "numbers = [273, 103, 5, 32, 65, 9, 72, 800, 99]\n",
    "for i in numbers:\n",
    "   print(\"{}의 자릿수는 {}자릿수 입니다,\".format(i,len(str(i))))"
   ]
  },
  {
   "cell_type": "markdown",
   "metadata": {},
   "source": [
    "#### 04-2 딕셔너리와 반복문\n",
    "---\n",
    "#### 시작하기 전에\n",
    "***리스트***가 '인덱스'를 기반으로 값을 저장하는 것이라면 ***딕셔너리***는 '키(key)'를 기반으로 값을 저장한다."
   ]
  },
  {
   "cell_type": "code",
   "execution_count": 32,
   "metadata": {},
   "outputs": [
    {
     "name": "stdout",
     "output_type": "stream",
     "text": [
      "문자열  : <class 'str'>\n",
      "리스트  : <class 'list'>\n",
      "튜플    : <class 'tuple'>\n",
      "셋      : <class 'set'>\n",
      "딕셔너리: <class 'dict'>\n"
     ]
    }
   ],
   "source": [
    "\"012\"\n",
    "[0,1,2]\n",
    "(0,1,2)\n",
    "{0,1,2}\n",
    "{0:2}\n",
    "\n",
    "print(\"문자열  :\", type(\"\"))\n",
    "print(\"리스트  :\", type([]))\n",
    "print(\"튜플    :\", type(()))\n",
    "print(\"셋      :\", type({0,}))\n",
    "print(\"딕셔너리:\", type({}))"
   ]
  },
  {
   "cell_type": "markdown",
   "metadata": {},
   "source": [
    "> 딕셔너리 선언하기"
   ]
  },
  {
   "cell_type": "code",
   "execution_count": 45,
   "metadata": {},
   "outputs": [
    {
     "name": "stdout",
     "output_type": "stream",
     "text": [
      "{'A': 10, 'B': 20, 'C': 30, 'D': 40, False: 50}\n",
      "['김철수', '27', '010-1234-5678', '서울 강남구', 174]\n"
     ]
    }
   ],
   "source": [
    "{}\n",
    "# 딕셔너리 = {키:값, 키:값, 키:값, 키:값, 키:값, ...}\n",
    "\n",
    "dic = \\\n",
    "{\n",
    "'A':10,\n",
    "'B':20,\n",
    "'C':30,\n",
    "'D':40,\n",
    "False:50\n",
    "}\n",
    "print(dic)\n",
    "\n",
    "# 딕셔너리 왜 필요한가?\n",
    "\n",
    "my_info = [\"김철수\",\"27\",\"010-1234-5678\",\"서울 강남구\",174]\n",
    "print(my_info)\n",
    "\n",
    "my_info = {\n",
    "    \"name\" :\"김철수\",\n",
    "    \"age\"  :27,\n",
    "    \"phonn\":\"010-1234-5678\",\n",
    "    \"addr\" :\"서울 강남구\",\n",
    "    \"IQ\"   :174,\n",
    "}\n"
   ]
  },
  {
   "cell_type": "markdown",
   "metadata": {},
   "source": [
    "> 딕셔너리 요소에 접근하기"
   ]
  },
  {
   "cell_type": "code",
   "execution_count": null,
   "metadata": {},
   "outputs": [],
   "source": [
    "# 리스트 접근 (인덱스)\n",
    "print(my_info[4])\n",
    "\n",
    "# 딕셔너리 [키]\n",
    "my_info2 = ['IQ']\n",
    "\n",
    "di = {'02':'서울', '051':'부산', '053':'대구', '032':'인천'}\n",
    "print(di['032'])"
   ]
  },
  {
   "cell_type": "code",
   "execution_count": 59,
   "metadata": {},
   "outputs": [
    {
     "name": "stdout",
     "output_type": "stream",
     "text": [
      "{2: ['종로', '용산', '강남', '마포', '영등포'], 51: '해운대', 53: '달성', 32: ['부평', '계양']}\n",
      "{2: ['종로', '용산', '강남', '마포', '영등포'], 51: '해운대', 53: '달서', 32: ['부평', '계양']}\n"
     ]
    }
   ],
   "source": [
    "district = {\n",
    "    2:['종로','용산','강남','마포','영등포'],\n",
    "    51:'해운대',\n",
    "    53:'달성',\n",
    "    32:['부평','계양' ] \n",
    "}\n",
    "\n",
    "# 접근 방법\n",
    "print(district)\n",
    "district[51]\n",
    "district[2][3]\n",
    "\n",
    "# 값 변경\n",
    "district[53] = \"달서\"\n",
    "print(district)"
   ]
  },
  {
   "cell_type": "markdown",
   "metadata": {},
   "source": [
    "> 딕셔너리에 요소 추가 / 제거 하기"
   ]
  },
  {
   "cell_type": "code",
   "execution_count": 62,
   "metadata": {},
   "outputs": [
    {
     "name": "stdout",
     "output_type": "stream",
     "text": [
      "요소 추가 전 : tv = {}\n",
      "요소 추가 후 :tv=  {'product_nmae': 'LG smart Tv 2022', 'serial_number': '20220107STV', 'price': 1500000}\n"
     ]
    }
   ],
   "source": [
    "# 딕셔너리 [추가할 키] = 추가할 값\n",
    "\n",
    "tv = {}\n",
    "print(\"요소 추가 전 : tv =\", tv)\n",
    "\n",
    "# 요소 \n",
    "tv[\"product_nmae\"] = \"LG smart Tv 2022\"\n",
    "tv[\"serial_number\"] = \"20220107STV\"\n",
    "tv[\"price\"] = 1_500_000\n",
    "\n",
    "print(\"요소 추가 후 :tv= \", tv)"
   ]
  },
  {
   "cell_type": "code",
   "execution_count": 67,
   "metadata": {},
   "outputs": [
    {
     "name": "stdout",
     "output_type": "stream",
     "text": [
      "'2'에 대한 검색 결과가 없습니다.\n",
      "[keyword] 추가 : {'interpreter': '프로그래밍 소스 코드를 곧바로 실행해주는 프로그렘\\n', 'variable': '값을 저장할 때 사용하는 식별자\\n', 'function': '어떤 동작 또는 기능을 하도록 기술하는 코드\\n', 'keyword': '언어 내에서 문법적인 용도로 사용되고 있는 단어'}\n"
     ]
    }
   ],
   "source": [
    "dictionary = {\n",
    "    \"interpreter\": \"프로그래밍 소스 코드를 곧바로 실행해주는 프로그렘\",\n",
    "    \"variable\": \"값을 저장할 때 사용하는 식별자\",\n",
    "    \"function\": \"어떤 동작 또는 기능을 하도록 기술하는 코드\",\n",
    "}\n",
    "\n",
    "\n",
    "#                   [interpreter, variable, function]\n",
    "search_word = input(\"IT 검색: \")\n",
    "if search_word in dictionary.keys():\n",
    "    print(search_word + \":\", dictionary[search_word])\n",
    "else:\n",
    "    print(f\"'{search_word}'에 대한 검색 결과가 없습니다.\")\n",
    "\n",
    "\n",
    "# IT 용어 추가\n",
    "dictionary[\"keyword\"] = \"언어 내에서 문법적인 용도로 사용되고 있는 단어\"\n",
    "print(\"[keyword] 추가 :\", dictionary)"
   ]
  },
  {
   "cell_type": "code",
   "execution_count": 75,
   "metadata": {},
   "outputs": [
    {
     "name": "stdout",
     "output_type": "stream",
     "text": [
      "요소 제거 이전: \n",
      "songs = {'아이유': ['에잇', '너의 의미', '밤편지', 'Love poam'], '이문세': ['소녀', '옛사랑', '광화문 연가', '소녀'], '블랙핑크': ['마지막처럼', '불장난', 'SO HOT'], 'BTS': ['Dynamite', '전하지 못한 진심', 'My Universe']}\n",
      "\n",
      "요소 제거 이후: \n",
      "songs = {'아이유': ['에잇', '너의 의미', '밤편지', 'Love poam'], '블랙핑크': ['마지막처럼', '불장난', 'SO HOT'], 'BTS': ['Dynamite', '전하지 못한 진심', 'My Universe']}\n",
      "\n",
      "인덱스 제거 이후: \n",
      "songs = {'아이유': ['에잇', '너의 의미', '밤편지', 'Love poam'], '블랙핑크': ['마지막처럼', '불장난'], 'BTS': ['Dynamite', '전하지 못한 진심', 'My Universe']}\n"
     ]
    }
   ],
   "source": [
    "# 딕셔너리에 요소 제거하기\n",
    "# del 딕셔너리 [ 삭제할 키 ]\n",
    "\n",
    "songs = {\n",
    "    \"아이유\": [\"에잇\",\"너의 의미\",\"밤편지\",\"Love poam\"],   \n",
    "    \"이문세\": [\"소녀\",\"옛사랑\",\"광화문 연가\",\"소녀\"],\n",
    "    \"블랙핑크\": [\"마지막처럼\",\"불장난\",\"SO HOT\"],\n",
    "    \"BTS\": [\"Dynamite\",\"전하지 못한 진심\", \"My Universe\"]\n",
    "}\n",
    "print(\"요소 제거 이전: \\nsongs =\", songs)\n",
    "print()\n",
    "\n",
    "# 요소를 제거\n",
    "del songs[\"이문세\"]\n",
    "print(\"요소 제거 이후: \\nsongs =\", songs)\n",
    "print()\n",
    "# 인덱스 제거 (SO HOT)\n",
    "del songs[\"블랙핑크\"][2]\n",
    "print(\"인덱스 제거 이후: \\nsongs =\", songs)"
   ]
  },
  {
   "cell_type": "markdown",
   "metadata": {},
   "source": [
    "> KeyError 예외"
   ]
  },
  {
   "cell_type": "code",
   "execution_count": null,
   "metadata": {},
   "outputs": [],
   "source": [
    "li = [1, 2, 3]\n",
    "# IndexError : list index out of range\n",
    "\n",
    "di = {\"A+\":95, \"A\":90, \"B+\":85, \"B\":80, \"D\":None}\n",
    "print(di[\"D\"])\n",
    "print(di[\"C\"]) # KeyError : 딕셔너리 안에 존재하지 않는 'C' 입력시\n",
    "\n"
   ]
  },
  {
   "cell_type": "markdown",
   "metadata": {},
   "source": [
    "> 딕셔너리 내부에 키(key)가 있는지 확인하기"
   ]
  },
  {
   "cell_type": "code",
   "execution_count": 90,
   "metadata": {},
   "outputs": [
    {
     "name": "stdout",
     "output_type": "stream",
     "text": [
      "{'A+': 95, 'A': 90, 'B+': 85, 'B': 80, 'D': 60}\n",
      "해당 등급이 존재하지 않습니다.\n",
      "{'A+': 95, 'A': 90, 'B+': 85, 'B': 80, 'D': 60, 'C': 70}\n",
      "학점이 정상적으로 등록되었습니다.\n"
     ]
    }
   ],
   "source": [
    "# 키가 존재하는지 확인하고 값에 접근한다.\n",
    "di = {\"A+\":95, \"A\":90, \"B+\":85, \"B\":80, \"D\":60}\n",
    "print(di)\n",
    "\n",
    "key = input(\"등급을 입력하세요 :\")\n",
    "\n",
    "# key가 있는지?\n",
    "if key in di:\n",
    "    print(\"{}학점은 {}점 이상입니다.\".format(key, di[key]))\n",
    "# key가 없는지?\n",
    "else:\n",
    "    print(\"해당 등급이 존재하지 않습니다.\")\n",
    "    res = input(\"등록해 드릴까요?(y/n)?\")\n",
    "    if res == 'y':\n",
    "        value = int(input(\"등급에 해당하는 점수를 입력하세요: \"))\n",
    "        di[key] = value\n",
    "        print(di)\n",
    "        print(\"학점이 정상적으로 등록되었습니다.\")\n",
    "    "
   ]
  },
  {
   "cell_type": "markdown",
   "metadata": {},
   "source": [
    "> 키의 존재와 관련된 get() 함수"
   ]
  },
  {
   "cell_type": "code",
   "execution_count": 102,
   "metadata": {},
   "outputs": [
    {
     "name": "stdout",
     "output_type": "stream",
     "text": [
      "95\n",
      "None\n",
      "C+ does not exist.\n",
      "C+ does not exist.\n"
     ]
    }
   ],
   "source": [
    "# get() 함수는 딕셔너리 키로 값을 추출 : 존재하지 않는 키에 접근할 경우?\n",
    "# 'KeyError'를 발생시키지 않고, 'None'을 리턴한다.\n",
    "di = {\"A+\": 95, \"A\": 90, \"B+\": 85, \"B\": 80, \"D\": 60}\n",
    "print(di.get(\"A+\"))\n",
    "\n",
    "# di[\"C\"] -> KeyError\n",
    "print(di.get(\"C\"))\n",
    "\n",
    "if \"C+\" not in di:\n",
    "    print(\"C+ does not exist.\")\n",
    "if di.get(\"C+\") == None:\n",
    "    print(\"C+ does not exist.\")"
   ]
  },
  {
   "cell_type": "markdown",
   "metadata": {},
   "source": [
    "> for 반복문 : 딕셔너리와 함꼐 사용하기"
   ]
  },
  {
   "cell_type": "markdown",
   "metadata": {},
   "source": [
    "#### 04-3 range와 while 반복문\n",
    "---\n",
    "***range***는 반복문과 함께 많이 사용되는 자료형, 특정한 횟수 만큼 반복해서 실행하고자 할 때 사용\n",
    "\n",
    "> 범위"
   ]
  },
  {
   "cell_type": "code",
   "execution_count": 104,
   "metadata": {},
   "outputs": [
    {
     "name": "stdout",
     "output_type": "stream",
     "text": [
      "r : range(0, 10) 타입:  <class 'range'>\n",
      "0, 2, 4, "
     ]
    }
   ],
   "source": [
    "# 범위(range) 자료형 선언(생성)\n",
    "r = range(10)\n",
    "print(\"r :\", r, \"타입: \", type(r))\n",
    "\n",
    "r1 = range(5)       # 0 ~ 5 : 0 1 2 3 4\n",
    "r2 = range(0, 5)    # 0 ~ 5 : 0 1 2 3 4\n",
    "r3 = range(0, 5, 1) # 0 ~ 5 : 0 1 2 3 4\n",
    "r4 = range(0, 5, 2) # 0 ~ 5 : 0 1 2 3 4\n",
    "for i in r4:\n",
    "    print(i, end=\", \")\n"
   ]
  },
  {
   "cell_type": "markdown",
   "metadata": {},
   "source": [
    "> 리스트(list)와 함께 사용하기"
   ]
  },
  {
   "cell_type": "code",
   "execution_count": 108,
   "metadata": {},
   "outputs": [
    {
     "ename": "TypeError",
     "evalue": "'list' object is not callable",
     "output_type": "error",
     "traceback": [
      "\u001b[1;31m---------------------------------------------------------------------------\u001b[0m",
      "\u001b[1;31mTypeError\u001b[0m                                 Traceback (most recent call last)",
      "\u001b[1;32m~\\AppData\\Local\\Temp/ipykernel_9956/807785372.py\u001b[0m in \u001b[0;36m<module>\u001b[1;34m\u001b[0m\n\u001b[1;32m----> 1\u001b[1;33m \u001b[0mlist\u001b[0m\u001b[1;33m(\u001b[0m\u001b[1;34m\"Python\"\u001b[0m\u001b[1;33m)\u001b[0m\u001b[1;33m\u001b[0m\u001b[1;33m\u001b[0m\u001b[0m\n\u001b[0m\u001b[0;32m      2\u001b[0m \u001b[0mlist\u001b[0m\u001b[1;33m(\u001b[0m\u001b[0mrange\u001b[0m\u001b[1;33m(\u001b[0m\u001b[1;36m1\u001b[0m\u001b[1;33m,\u001b[0m \u001b[1;36m10\u001b[0m\u001b[1;33m,\u001b[0m \u001b[1;36m2\u001b[0m\u001b[1;33m)\u001b[0m\u001b[1;33m)\u001b[0m\u001b[1;33m\u001b[0m\u001b[1;33m\u001b[0m\u001b[0m\n\u001b[0;32m      3\u001b[0m \u001b[1;33m\u001b[0m\u001b[0m\n\u001b[0;32m      4\u001b[0m \u001b[0mrange\u001b[0m\u001b[1;33m(\u001b[0m\u001b[1;36m1\u001b[0m\u001b[1;33m,\u001b[0m \u001b[1;36m11\u001b[0m\u001b[1;33m)\u001b[0m\u001b[1;33m\u001b[0m\u001b[1;33m\u001b[0m\u001b[0m\n\u001b[0;32m      5\u001b[0m \u001b[0mrange\u001b[0m\u001b[1;33m(\u001b[0m\u001b[1;36m1\u001b[0m\u001b[1;33m,\u001b[0m \u001b[1;36m10\u001b[0m \u001b[1;33m+\u001b[0m \u001b[1;36m1\u001b[0m\u001b[1;33m)\u001b[0m\u001b[1;33m\u001b[0m\u001b[1;33m\u001b[0m\u001b[0m\n",
      "\u001b[1;31mTypeError\u001b[0m: 'list' object is not callable"
     ]
    }
   ],
   "source": [
    "list(\"Python\")\n",
    "list(range(1, 10, 2))\n",
    "\n",
    "range(1, 11)\n",
    "range(1, 10 + 1)\n",
    "\n",
    "# 100 보다 작은 3의 배수 리스트 생성하세요~\n",
    "# [3, 6, 9, 12, 15 .....]\n",
    "\n",
    "multi_list = list(range(3, 100, 3))\n",
    "print(multi_list)\n",
    "\n"
   ]
  },
  {
   "cell_type": "code",
   "execution_count": 113,
   "metadata": {},
   "outputs": [
    {
     "name": "stdout",
     "output_type": "stream",
     "text": [
      "10 9 8 7 6 5 4 3 2 1 \n",
      "Fire!!!\n"
     ]
    }
   ],
   "source": [
    "# 카운트 다운\n",
    "import time\n",
    "for counter in range(10, 0, -1):\n",
    "    print(counter, end=\" \")\n",
    "    time.sleep(1)\n",
    "print()\n",
    "print(\"Fire!!!\")"
   ]
  },
  {
   "cell_type": "code",
   "execution_count": 119,
   "metadata": {},
   "outputs": [
    {
     "name": "stdout",
     "output_type": "stream",
     "text": [
      "1 교시 국어\n",
      "2 교시 영어\n",
      "3 교시 수학\n",
      "4 교시 컴퓨터\n",
      "5 교시 물리\n"
     ]
    }
   ],
   "source": [
    "subjects = [\"국어\", \"영어\", \"수학\", \"컴퓨터\", \"물리\"]\n",
    "for i in range(len(subjects)):\n",
    "    print(i + 1, \"교시\", subjects[i])"
   ]
  },
  {
   "cell_type": "markdown",
   "metadata": {},
   "source": [
    "> while 반복문 : 조건이 만족할때까지 무한반복   \n",
    "* 반복 횟수가 제한되있는 for 반복문과 구별된다"
   ]
  },
  {
   "cell_type": "code",
   "execution_count": null,
   "metadata": {},
   "outputs": [],
   "source": [
    "# 1. for looping : 특정 횟수 만큼 반복하는 경우 ( 반복 횟수가 정해짐 )\n",
    "# 2. while looping : 특정 조건에 대하여 반복하는 경우 ( 조건식이 만족할 때 까지 반복)\n",
    "# while + bool표현식 :\n",
    "# 횟수 반복\n",
    "for i in range(15):\n",
    "    print(i, end=\" \")\n",
    "    time.sleep(0.5)\n",
    "# 조건 반복\n",
    "n = 0\n",
    "while n < 15:\n",
    "    print(n, end=\" \")\n",
    "    n += 1\n",
    "    time.sleep(0.5)"
   ]
  },
  {
   "cell_type": "code",
   "execution_count": 123,
   "metadata": {},
   "outputs": [
    {
     "name": "stdout",
     "output_type": "stream",
     "text": [
      "UTC :  1641545727.135612\n",
      "1.008298635482788초 동안 2189053회 반복했습니다.\n"
     ]
    }
   ],
   "source": [
    "# 세계 표준시(UTC) : 1970.01.01.00:00:00 기준 현재시까지의 누적 초\n",
    "import time\n",
    "print(\"UTC : \", time.time())\n",
    "\n",
    "count = 0\n",
    "start_time = time.time()\n",
    "target_time = start_time + 1\n",
    "\n",
    "while time.time() < target_time:\n",
    "    count += 1\n",
    "\n",
    "end_time = time.time()\n",
    "print(\"{}초 동안 {}회 반복했습니다.\".format(end_time - start_time, count))\n"
   ]
  }
 ],
 "metadata": {
  "interpreter": {
   "hash": "054c0b5073ae8ed56926c5c67113945079b283bacf1a269ae7086b3d9eebd60c"
  },
  "kernelspec": {
   "display_name": "Python 3.10.1 64-bit",
   "language": "python",
   "name": "python3"
  },
  "language_info": {
   "codemirror_mode": {
    "name": "ipython",
    "version": 3
   },
   "file_extension": ".py",
   "mimetype": "text/x-python",
   "name": "python",
   "nbconvert_exporter": "python",
   "pygments_lexer": "ipython3",
   "version": "3.10.1"
  },
  "orig_nbformat": 4
 },
 "nbformat": 4,
 "nbformat_minor": 2
}
