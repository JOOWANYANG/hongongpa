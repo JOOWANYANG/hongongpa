{
 "cells": [
  {
   "cell_type": "markdown",
   "metadata": {},
   "source": [
    "### 04-4 문자열 리스트, 딕셔너리 관련된 기본 함수\n",
    "---\n",
    "***파이썬스러운***  고유 기능 살펴보기 : enumerate() , 리스트내포(list comprehenstion)"
   ]
  },
  {
   "cell_type": "markdown",
   "metadata": {},
   "source": [
    "> 리스트에 적용할 수 있는 기본함수 : min() , max() , sum()"
   ]
  },
  {
   "cell_type": "code",
   "execution_count": 13,
   "metadata": {},
   "outputs": [
    {
     "name": "stdout",
     "output_type": "stream",
     "text": [
      "55\n",
      "10\n",
      "1\n",
      "\n",
      "400\n",
      "98\n",
      "56\n",
      "평균 : 80.0\n",
      "None\n",
      "[56, 63, 87, 96, 98]\n"
     ]
    }
   ],
   "source": [
    "# 1 - 10 까지의 합\n",
    "li = list(range(1,11))\n",
    "print(sum(li))\n",
    "print(max(li))\n",
    "print(min(li))\n",
    "print()\n",
    "\n",
    "scores = [96, 87, 98, 63, 56]\n",
    "print(sum(scores))\n",
    "print(max(scores))\n",
    "print(min(scores))\n",
    "print(\"평균 :\", sum(scores) / len(scores))\n",
    "\n",
    "print(scores.sort())\n",
    "print(scores)"
   ]
  }
 ],
 "metadata": {
  "interpreter": {
   "hash": "054c0b5073ae8ed56926c5c67113945079b283bacf1a269ae7086b3d9eebd60c"
  },
  "kernelspec": {
   "display_name": "Python 3.10.1 64-bit",
   "language": "python",
   "name": "python3"
  },
  "language_info": {
   "codemirror_mode": {
    "name": "ipython",
    "version": 3
   },
   "file_extension": ".py",
   "mimetype": "text/x-python",
   "name": "python",
   "nbconvert_exporter": "python",
   "pygments_lexer": "ipython3",
   "version": "3.10.1"
  },
  "orig_nbformat": 4
 },
 "nbformat": 4,
 "nbformat_minor": 2
}
