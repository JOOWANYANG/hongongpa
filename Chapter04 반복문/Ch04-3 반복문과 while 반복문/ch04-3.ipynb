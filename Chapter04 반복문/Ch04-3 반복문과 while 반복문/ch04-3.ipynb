{
 "cells": [
  {
   "cell_type": "markdown",
   "metadata": {},
   "source": [
    "> 반복문 탈출 : break / countinue"
   ]
  },
  {
   "cell_type": "code",
   "execution_count": null,
   "metadata": {},
   "outputs": [],
   "source": [
    "# countinue : 실행을 건너뛰고 반복조건으로 되돌리기\n",
    "# 369 게임\n",
    "# 3, 6, 9 : '🙏'\n",
    "# 36 : '🙏🙏'\n",
    "\n",
    "user = input(\"369 게임 숫자 입력 (예:1-10)\")\n",
    "li = user.split('-')\n",
    "start = int(li[0])\n",
    "stop = int(li[1])\n",
    "\n",
    "# start,1,2,3,4,5,6,7...stop\n",
    "for num in range(start, stop + 1):\n",
    "    count = 0 # 초기화\n",
    "    for ch in str(num): # ch = \"1230679\"\n",
    "        if ch in ['3','6','9']:\n",
    "            count += 1\n",
    "    if count == 0:\n",
    "        print(num)\n",
    "        continue # 실행을 건너뛰고 반복조건 (처음 for구문) 으로 돌아감\n",
    "    else:\n",
    "        print(\"{} {}\".format(num,'🙏'*count))\n",
    "        \n",
    "\n",
    "\n"
   ]
  },
  {
   "cell_type": "code",
   "execution_count": null,
   "metadata": {},
   "outputs": [],
   "source": [
    "# 1 - 100 까지의 정수 중 \n",
    "\n",
    "for num in range(0, 101):\n",
    "    if num % 3 == 0:\n",
    "        print(num)\n",
    "    else:\n",
    "        continue"
   ]
  }
 ],
 "metadata": {
  "interpreter": {
   "hash": "054c0b5073ae8ed56926c5c67113945079b283bacf1a269ae7086b3d9eebd60c"
  },
  "kernelspec": {
   "display_name": "Python 3.10.1 64-bit",
   "language": "python",
   "name": "python3"
  },
  "language_info": {
   "codemirror_mode": {
    "name": "ipython",
    "version": 3
   },
   "file_extension": ".py",
   "mimetype": "text/x-python",
   "name": "python",
   "nbconvert_exporter": "python",
   "pygments_lexer": "ipython3",
   "version": "3.10.1"
  },
  "orig_nbformat": 4
 },
 "nbformat": 4,
 "nbformat_minor": 2
}
