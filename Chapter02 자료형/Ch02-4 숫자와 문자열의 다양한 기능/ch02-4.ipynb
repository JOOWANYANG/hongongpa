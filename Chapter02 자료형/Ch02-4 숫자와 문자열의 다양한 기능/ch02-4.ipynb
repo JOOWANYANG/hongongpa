{
 "cells": [
  {
   "cell_type": "markdown",
   "metadata": {},
   "source": [
    "### 02-4 숫자와 문자열의 다양한 기능\n",
    "---\n",
    "#### 시작하기 전에\n",
    "    문자열 자료형의 기능 즉, 내장 함수 알아보기"
   ]
  },
  {
   "cell_type": "code",
   "execution_count": 7,
   "metadata": {},
   "outputs": [
    {
     "name": "stdout",
     "output_type": "stream",
     "text": [
      "LIFE IS SHORT\n",
      "11\n"
     ]
    }
   ],
   "source": [
    "# \"str\".멤버함수호출()\n",
    "\n",
    "print(\"Life is short\".upper())\n",
    "print(\"i am string\".__len__())"
   ]
  },
  {
   "cell_type": "markdown",
   "metadata": {},
   "source": [
    "> 서식 지정자(format specifier)로 문자열 만들기"
   ]
  },
  {
   "cell_type": "code",
   "execution_count": 22,
   "metadata": {},
   "outputs": [
    {
     "name": "stdout",
     "output_type": "stream",
     "text": [
      "name 의 평균 점수는 score 입니다.\n",
      "철수의 평균 점수는 85.3입니다.\n",
      "철수의 평균 점수는 85.300000입니다.\n",
      "철수의 평균 점수는 85입니다.\n",
      "my name is IU\n"
     ]
    }
   ],
   "source": [
    "# 철수의 평균 점수는 85.3점 입니다.\n",
    "# 영희의 평균 점수는 85.3점 입니다.\n",
    "# 길동의 평균 점수는 85.3점 입니다.\n",
    "# 순이의 평균 점수는 85.3점 입니다.\n",
    "# (이름)의 평균 점수는 (점수)점 입니다.\n",
    "\n",
    "# 문자열 안에서 특정 부분 원하는 값으로 바꿀 때 : 서식지정자 또는 문자열포멧팅(format) 사용\n",
    "\n",
    "name = \"철수\" # str\n",
    "score = 85.3  # float\n",
    "print(\"name 의 평균 점수는 score 입니다.\")\n",
    "\n",
    "# 문자열 포메팅(format)\n",
    "print(\"{}의 평균 점수는 {}입니다.\".format(name,score))\n",
    "\n",
    "# 서식 지정자(%)\n",
    "\n",
    "print(\"%s의 평균 점수는 %f입니다.\"%(name,score)) # 실수\n",
    "print(\"%s의 평균 점수는 %i입니다.\"%(name,score)) # 정수\n",
    "\n",
    "n = 'IU'\n",
    "print(\"my name is %s\" %n)"
   ]
  },
  {
   "cell_type": "code",
   "execution_count": 55,
   "metadata": {},
   "outputs": [
    {
     "name": "stdout",
     "output_type": "stream",
     "text": [
      "철수 학생의 점수는 85점 입니다.\n",
      "영희 학생의 점수는 98점 입니다.\n",
      "길산 학생의 점수는 75점 입니다.\n",
      "희경 학생의 점수는 83점 입니다.\n",
      "수진 학생의 점수는 91점 입니다.\n",
      "명수 학생의 점수는 88점 입니다.\n"
     ]
    }
   ],
   "source": [
    "# 학급 학생들의 점수 출력하기\n",
    "\n",
    "import time\n",
    "\n",
    "names = [\"철수\", \"영희\", \"길산\", \"희경\", \"수진\", \"명수\"]\n",
    "scores = [85, 98, 75, 83, 91, 88]\n",
    "\n",
    "for i in range(len(names)):\n",
    "    print(\"%s 학생의 점수는 %d점 입니다.\" %(names[i],scores[i]))\n",
    "    time.sleep(1)"
   ]
  },
  {
   "cell_type": "markdown",
   "metadata": {},
   "source": [
    "> 문자열 format() 함수"
   ]
  },
  {
   "cell_type": "code",
   "execution_count": 59,
   "metadata": {},
   "outputs": [
    {
     "name": "stdout",
     "output_type": "stream",
     "text": [
      "오늘은 2022년 1월 5일 입니다.\n"
     ]
    }
   ],
   "source": [
    "# 문자열 안에서 변수를 사용할 때\n",
    "year = 2022\n",
    "month = 1\n",
    "day = 5\n",
    "\n",
    "today = \"오늘은 2022년 1월 5일입니다.\"\n",
    "today = \"오늘은 year년 month월 day일입니다.\"\n",
    "today = \"오늘은 {}년 {}월 {}일 입니다.\".format(year,month,day)\n",
    "print(today)\n"
   ]
  },
  {
   "cell_type": "code",
   "execution_count": null,
   "metadata": {},
   "outputs": [],
   "source": [
    "def call(number):\n",
    "    print(\"띵동~ {} 번 고객님 접수처로 와주세요\".format(number))\n",
    "\n",
    "for i in [1,2,3,4,5,6,7,8,9]:\n",
    "    call(i)\n",
    "    time.sleep(1)"
   ]
  },
  {
   "cell_type": "code",
   "execution_count": 79,
   "metadata": {},
   "outputs": [
    {
     "name": "stdout",
     "output_type": "stream",
     "text": [
      "Script Pyhon Script Pyhon\n",
      "Hello, python 3.10.1 \n",
      "Hello, Java 11\n"
     ]
    }
   ],
   "source": [
    "# format() 함수의 다양한 형태\n",
    "deta1 = \"{}만원\".format(5000)\n",
    "deta2 = \"{}M, {}M, {}M 달리기\".format(100, 400, 800)\n",
    "\n",
    "# 인덱스 사용\n",
    "deta3 = \"Programming Language {} {} {}\".format('python','script','3.10.1')\n",
    "deta4 = \"{1} {0} {1} {0}\".format('Pyhon','Script')\n",
    "print(deta4)\n",
    "\n",
    "# 인덱스 대신 변수명 지정하기\n",
    "deta5 = \"Hello, {lan} {ver} \".format(lan='python',ver='3.10.1')\n",
    "print(deta5)\n",
    "\n",
    "# 변수명 그대로 사용하기\n",
    "lan = 'Java'\n",
    "ver = '11'\n",
    "deta6 = f\"Hello, {lan} {ver}\"\n",
    "print(deta6)"
   ]
  },
  {
   "cell_type": "markdown",
   "metadata": {},
   "source": [
    "> IndexError 예외 : { } 인덱스 개수와 함수 매개변수 개수보다 많은 경우"
   ]
  },
  {
   "cell_type": "code",
   "execution_count": null,
   "metadata": {},
   "outputs": [],
   "source": [
    "print(\"{} {}\".format(1,2,3,4,5))\n",
    "print(\"{} {} {}\".format(1,2))\n"
   ]
  },
  {
   "cell_type": "markdown",
   "metadata": {},
   "source": [
    "> format() 함수의 다양한 기능 : 숫자 관련"
   ]
  },
  {
   "cell_type": "code",
   "execution_count": 107,
   "metadata": {},
   "outputs": [
    {
     "name": "stdout",
     "output_type": "stream",
     "text": [
      "52\n",
      "52\n",
      "   52\n",
      "00052\n",
      "  [지출내역]\n",
      " 1200 (만원)\n",
      "  200 (만원)\n",
      "   15 (만원)\n",
      " 3500 (만원)\n",
      " 1200 (만원)\n"
     ]
    }
   ],
   "source": [
    "output_a = \"{:d}\".format(52) # dimi \n",
    "print(output_a)\n",
    "\n",
    "output_b = \"{:s}\".format(\"52\") # str\n",
    "print(output_b)\n",
    "\n",
    "output_b = \"{:5d}\".format(52) # 총 자릿수가 5개이고 우측정렬\n",
    "print(output_b)\n",
    "\n",
    "output_b = \"{:05d}\".format(52) # 0으로 빈칸이 채워짐\n",
    "print(output_b)\n",
    "\n",
    "print(\"  [지출내역]\")\n",
    "cost1 = \"{:5d} (만원)\".format(1200)\n",
    "cost2 = \"{:5d} (만원)\".format(200)\n",
    "cost3 = \"{:5d} (만원)\".format(15)\n",
    "cost4 = \"{:5d} (만원)\".format(3500)\n",
    "cost5 = \"{:5d} (만원)\".format(1200)\n",
    "print(cost1)\n",
    "print(cost2)\n",
    "print(cost3)\n",
    "print(cost4)\n",
    "print(cost5)"
   ]
  },
  {
   "cell_type": "code",
   "execution_count": 113,
   "metadata": {},
   "outputs": [
    {
     "name": "stdout",
     "output_type": "stream",
     "text": [
      "+55\n",
      "55\n"
     ]
    }
   ],
   "source": [
    "# 기호와 함께 출력하기\n",
    "output_a = \"{:+d}\".format(55)\n",
    "print(output_a)\n",
    "\n",
    "output_a = \"{:-d}\".format(55)\n",
    "print(output_a)"
   ]
  },
  {
   "cell_type": "code",
   "execution_count": 118,
   "metadata": {},
   "outputs": [
    {
     "name": "stdout",
     "output_type": "stream",
     "text": [
      "  +52\n",
      "+0052\n"
     ]
    }
   ],
   "source": [
    "print(\"{:+5d}\".format(52))\n",
    "print(\"{:=+5d}\".format(52))"
   ]
  },
  {
   "cell_type": "code",
   "execution_count": 127,
   "metadata": {},
   "outputs": [
    {
     "name": "stdout",
     "output_type": "stream",
     "text": [
      "3.141592\n",
      "      +3.141592\n",
      "+000000000003.1\n"
     ]
    }
   ],
   "source": [
    "# 부동소수점 출력의 형태\n",
    "print(\"{:f}\".format(3.141592))\n",
    "print(\"{:+15f}\".format(3.141592))\n",
    "\n",
    "# 소수점 아래 자릿수 지정하기\n",
    "print(\"{:+015.1f}\".format(3.141592))"
   ]
  },
  {
   "cell_type": "markdown",
   "metadata": {},
   "source": [
    "> 대소문자 바꾸기 : upper() , lower()"
   ]
  },
  {
   "cell_type": "code",
   "execution_count": 132,
   "metadata": {},
   "outputs": [
    {
     "data": {
      "text/plain": [
       "'Hello python progmramming...!!'"
      ]
     },
     "execution_count": 132,
     "metadata": {},
     "output_type": "execute_result"
    }
   ],
   "source": [
    "sentence = \"Hello Python Progmramming...!!\"\n",
    "\n",
    "sentence.upper()\n",
    "sentence.lower()\n",
    "sentence.capitalize()\n"
   ]
  },
  {
   "cell_type": "markdown",
   "metadata": {},
   "source": [
    "> 문자열 공백 제거하기 : strip() , lstrip() , rstrip()"
   ]
  },
  {
   "cell_type": "code",
   "execution_count": 142,
   "metadata": {},
   "outputs": [
    {
     "name": "stdout",
     "output_type": "stream",
     "text": [
      "입력값:                           Python\n",
      "32\n",
      "6\n",
      "Python\n"
     ]
    }
   ],
   "source": [
    "input_data = \"                          Python\"\n",
    "print(f\"입력값: {input_data}\")\n",
    "print(len(input_data))\n",
    "\n",
    "sentence = input_data.strip()\n",
    "print(len(sentence))\n",
    "print(sentence)"
   ]
  },
  {
   "cell_type": "markdown",
   "metadata": {},
   "source": [
    "> 특정 문자 제거하기"
   ]
  },
  {
   "cell_type": "code",
   "execution_count": 162,
   "metadata": {},
   "outputs": [
    {
     "name": "stdout",
     "output_type": "stream",
     "text": [
      "input_data : , Python. . / *\n",
      "Python\n",
      "6\n",
      "!\"#$%&'()*+,-./:;<=>?@[\\]^_`{|}~\n",
      "PYTHON\n"
     ]
    }
   ],
   "source": [
    "input_data = \", Python. . / *\"\n",
    "print(f\"input_data : {input_data}\")\n",
    "\n",
    "strip_data = input_data.strip(\",./ *\")\n",
    "print(strip_data)\n",
    "print(len(strip_data))\n",
    "\n",
    "# 구두점을 간단하게 삭제하는 방법\n",
    "import string\n",
    "print(string.punctuation)\n",
    "input_data = \"\"\"!\"#$%&'()*+,-python./:;<=>?@[\\]^_`{|}~\"\"\"\n",
    "strip_data = input_data.strip(string.punctuation).upper() # 메서드 체이닝(method chaining)\n",
    "print(strip_data)"
   ]
  },
  {
   "cell_type": "markdown",
   "metadata": {},
   "source": [
    "> 문자열의 구성 파악하기 : is__()"
   ]
  },
  {
   "cell_type": "code",
   "execution_count": 173,
   "metadata": {},
   "outputs": [
    {
     "name": "stdout",
     "output_type": "stream",
     "text": [
      "다음 단계로 이동\n"
     ]
    }
   ],
   "source": [
    "# 불(bool) 자료형 리턴\n",
    "\"abc123\".isalnum()\n",
    "\"abc\".isalpha()\n",
    "\"123\".isnumeric()\n",
    "\"123.45\".isdecimal()\n",
    "\"12345\".isdigit()\n",
    "\"ABCD\".isupper()\n",
    "\n",
    "name = input(\"입력\")\n",
    "if name.isalpha():\n",
    "    print(\"다음 단계로 이동\")\n",
    "else:\n",
    "    print(\"문자를 입력하세요\")\n"
   ]
  },
  {
   "cell_type": "markdown",
   "metadata": {},
   "source": [
    "> 문자열 위치 찾기 : find() rfind()"
   ]
  },
  {
   "cell_type": "code",
   "execution_count": 179,
   "metadata": {},
   "outputs": [
    {
     "data": {
      "text/plain": [
       "12"
      ]
     },
     "execution_count": 179,
     "metadata": {},
     "output_type": "execute_result"
    }
   ],
   "source": [
    "# find() : 왼쪽부터 찾아서 처음 등장하는 위치를 반환\n",
    "# rfind(): 오른쪽부터 찾아서처음 등장하는 위치를 반환\n",
    "\n",
    "i = '012345678901234'\n",
    "s = 'apple pineapple'\n",
    "\n",
    "s.find(\"pl\")  # 2 \n",
    "s.rfind('pl') # 12"
   ]
  },
  {
   "cell_type": "markdown",
   "metadata": {},
   "source": [
    "> 문자열과 in 연선자"
   ]
  },
  {
   "cell_type": "code",
   "execution_count": 180,
   "metadata": {},
   "outputs": [
    {
     "name": "stdout",
     "output_type": "stream",
     "text": [
      "True\n"
     ]
    }
   ],
   "source": [
    "# 문자열 내부에 어떤(지정한) 문자열이 있는지 확인하기\n",
    "print(\"pine\"in s)\n",
    "\n",
    "sentence = \"\"\"\n",
    "\"\"\""
   ]
  },
  {
   "cell_type": "markdown",
   "metadata": {},
   "source": [
    "> 사용자로부터 입력 받은 모든 정수의 합을 리턴해주는 프로그램 작성 : input_split.py"
   ]
  },
  {
   "cell_type": "code",
   "execution_count": 191,
   "metadata": {},
   "outputs": [
    {
     "name": "stdout",
     "output_type": "stream",
     "text": [
      "150\n"
     ]
    }
   ],
   "source": [
    "nums = input(\"값을 입력하세요 :\") \n",
    "split_nums = nums.split() # [ , , , , ...]\n",
    "\n",
    "sum = 0  # 초기화\n",
    "for a in split_nums:\n",
    "    sum += int(a) # int 형변환\n",
    "\n",
    "print(sum)"
   ]
  },
  {
   "cell_type": "code",
   "execution_count": null,
   "metadata": {},
   "outputs": [],
   "source": [
    "del(sum)\n",
    "\n",
    "li = list(map(int, input().split)) # [10, 20, 30]\n",
    "print(sum(10, 20, 30))\n",
    "print(sum(li))"
   ]
  },
  {
   "cell_type": "code",
   "execution_count": null,
   "metadata": {},
   "outputs": [],
   "source": [
    "# 성적 관리 프로그렘"
   ]
  }
 ],
 "metadata": {
  "interpreter": {
   "hash": "054c0b5073ae8ed56926c5c67113945079b283bacf1a269ae7086b3d9eebd60c"
  },
  "kernelspec": {
   "display_name": "Python 3.10.1 64-bit",
   "language": "python",
   "name": "python3"
  },
  "language_info": {
   "codemirror_mode": {
    "name": "ipython",
    "version": 3
   },
   "file_extension": ".py",
   "mimetype": "text/x-python",
   "name": "python",
   "nbconvert_exporter": "python",
   "pygments_lexer": "ipython3",
   "version": "3.10.1"
  },
  "orig_nbformat": 4
 },
 "nbformat": 4,
 "nbformat_minor": 2
}
