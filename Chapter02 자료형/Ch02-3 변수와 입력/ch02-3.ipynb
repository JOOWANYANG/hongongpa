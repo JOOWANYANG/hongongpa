{
 "cells": [
  {
   "cell_type": "markdown",
   "metadata": {},
   "source": [
    "# 시작하기 전에   \n",
    "\n",
    "#### 변수란 값을 저장하여 사용하기 위한 식별자이다.   \n",
    "> #### 변수(Variable) 만들기(사용)"
   ]
  },
  {
   "cell_type": "code",
   "execution_count": null,
   "metadata": {},
   "outputs": [],
   "source": [
    "# 계좌액 100만원 가지고 용산전자상가에서 노트북과 이어폰 사고 정산하기\n",
    "account = 1_000_000 \n",
    "notebook = 500_000\n",
    "earphone = 200_000\n",
    "\n",
    "print(id(account))\n",
    "\n",
    "balance = account - (notebook + earphone)\n",
    "print(\"계좌잔고 :\", balance , \"원\")"
   ]
  },
  {
   "cell_type": "code",
   "execution_count": null,
   "metadata": {},
   "outputs": [],
   "source": [
    "# 원의 둘레 면적 구하는 프로그램\n",
    "PI = 3.14159265358979323846264338327"
   ]
  },
  {
   "cell_type": "markdown",
   "metadata": {},
   "source": [
    "> 복합대입연산자 : *= -= *= /= %= **="
   ]
  },
  {
   "cell_type": "code",
   "execution_count": 49,
   "metadata": {},
   "outputs": [
    {
     "name": "stdout",
     "output_type": "stream",
     "text": [
      "1\n",
      "10\n",
      "20\n",
      "4.0\n",
      "안녕하세요! 여러분\n",
      "~ ~ ~ ~ ~ \n"
     ]
    }
   ],
   "source": [
    "# 숫자 연산\n",
    "\n",
    "a = 0\n",
    "print(a + 1)\n",
    "a += 10 # a = a + 10\n",
    "print(a)\n",
    "\n",
    "a += 10\n",
    "print(a)\n",
    "\n",
    "a /= 5 # a = a/(float)5\n",
    "print(a)\n",
    "\n",
    "# 문자열 연산(+ , *)\n",
    "string = \"안녕하세요!\"\n",
    "string += \" 여러분\" # string = \"안녕하세요!\" +\" 여러분\"\n",
    "print(string)\n",
    "\n",
    "ch = '~ '\n",
    "ch *= 5  # ch = ch + 5\n",
    "print(ch)\n"
   ]
  },
  {
   "cell_type": "markdown",
   "metadata": {},
   "source": [
    "> 사용자 입력 : input()"
   ]
  },
  {
   "cell_type": "code",
   "execution_count": null,
   "metadata": {},
   "outputs": [],
   "source": [
    "keyboard = input(\"숫자를 입력해 주세요: \")\n",
    "print(type(keyboard)) # input 함수에는 숫자를 입력하더라도 리턴값은 문자열이다\n",
    "\n",
    "# print((keyboard) +10) : 숫자에 입력한 값은 int 가 아니므로 산술연산이 불가하다\n",
    "print(int(keyboard) +10) # input 의 리턴값을 int로 지정해줘야 산술연산이 가능하다\n"
   ]
  },
  {
   "cell_type": "markdown",
   "metadata": {},
   "source": [
    "> 타입 캐스팅(형변환)"
   ]
  },
  {
   "cell_type": "code",
   "execution_count": 36,
   "metadata": {},
   "outputs": [
    {
     "name": "stdout",
     "output_type": "stream",
     "text": [
      "입력값 : 12\n",
      "<class 'str'>\n",
      "int(입력값) : 12\n",
      "<class 'int'>\n",
      "입력값 + 10 : 22\n"
     ]
    }
   ],
   "source": [
    "keyboard = input(\"숫자를 입력해 주세요: \")\n",
    "print(\"입력값 :\", keyboard)\n",
    "print(type(keyboard))\n",
    "\n",
    "# 'str' to 'int' : 문자열을 숫자로 형변환\n",
    "keyboard = int(keyboard)\n",
    "print(\"int(입력값) :\", keyboard)\n",
    "print(type(keyboard))\n",
    "\n",
    "keyboard += 10\n",
    "print(\"입력값 + 10 :\", keyboard)"
   ]
  },
  {
   "cell_type": "code",
   "execution_count": 40,
   "metadata": {},
   "outputs": [
    {
     "name": "stdout",
     "output_type": "stream",
     "text": [
      "<class 'float'>\n"
     ]
    }
   ],
   "source": [
    "radius = float(input(\"원의 반지름(실수)를 입력하세요: \")) # '3.14' -> 3.14  \n",
    "print(type(radius))"
   ]
  },
  {
   "cell_type": "markdown",
   "metadata": {},
   "source": [
    "> 사용자 입력값 계산하기"
   ]
  },
  {
   "cell_type": "code",
   "execution_count": 42,
   "metadata": {},
   "outputs": [
    {
     "name": "stdout",
     "output_type": "stream",
     "text": [
      "a+b : 14.0\n",
      "a-b : 10.0\n",
      "a*b : 24.0\n",
      "a/b : 6.0\n"
     ]
    }
   ],
   "source": [
    "# 숫자를 두 번 입력 받아 계산하고 결과(사칙연산)를 출력하시오\n",
    "\n",
    "a = float(input(\"입력값 a\"))\n",
    "b = float(input(\"입력값 b\"))\n",
    "\n",
    "print(\"a+b :\",a+b)\n",
    "print(\"a-b :\",a-b)\n",
    "print(\"a*b :\",a*b)\n",
    "print(\"a/b :\",a/b)"
   ]
  },
  {
   "cell_type": "markdown",
   "metadata": {},
   "source": [
    "> ValueError 예외\n"
   ]
  },
  {
   "cell_type": "code",
   "execution_count": null,
   "metadata": {},
   "outputs": [],
   "source": [
    "# 첫째 , 숫자가 아닌 자료를 숫자로 변환하려고 할때\n",
    "data = int(input(\"정수를 입력하세요: \"))\n",
    "print(data)\n",
    "\n",
    "i = int(\"12345789\")\n",
    "print(i)\n",
    "\n",
    "int(\"안녕하세요\")\n",
    "float(\"Python\")"
   ]
  },
  {
   "cell_type": "code",
   "execution_count": null,
   "metadata": {},
   "outputs": [],
   "source": [
    "# 둘쨰, 소수점이 있는 숫자 형식의 문자열을  int(), float() 형변환하려 할때\n",
    "\n",
    "x = 42.195\n",
    "print(int(x))\n",
    "\n",
    "s = \"42195\"\n",
    "print(int(s))\n",
    "\n",
    "sf = \"42.195\"\n",
    "\n",
    "# int(sf) -> Error\n",
    "float(sf) # valueError\n"
   ]
  },
  {
   "cell_type": "markdown",
   "metadata": {},
   "source": [
    "> 숫자를 문자열로 바꾸기 : str()"
   ]
  },
  {
   "cell_type": "code",
   "execution_count": 48,
   "metadata": {},
   "outputs": [
    {
     "name": "stdout",
     "output_type": "stream",
     "text": [
      "50\n",
      "2030\n"
     ]
    }
   ],
   "source": [
    "a = 20\n",
    "b = 30\n",
    "print(a+b)\n",
    "\n",
    "a = str(a) # 20 -> '20'\n",
    "b = str(b) # 30 -> '30'\n",
    "print(a+b)"
   ]
  },
  {
   "cell_type": "code",
   "execution_count": 50,
   "metadata": {},
   "outputs": [
    {
     "name": "stdout",
     "output_type": "stream",
     "text": [
      "오늘의 날짜 : 2022년1월5일\n"
     ]
    }
   ],
   "source": [
    "# \"오늘의 날짜 : 2022.1.5\"\n",
    "\n",
    "import datetime\n",
    "\n",
    "now = datetime.datetime.now()\n",
    "\n",
    "print(\"오늘의 날짜 : {}년{}월{}일\".format(\n",
    "    now.year,\n",
    "    now.month,\n",
    "    now.day\n",
    "))"
   ]
  },
  {
   "cell_type": "code",
   "execution_count": 56,
   "metadata": {},
   "outputs": [
    {
     "name": "stdout",
     "output_type": "stream",
     "text": [
      "12.0 inch 는 30.48 cm 입니다\n"
     ]
    }
   ],
   "source": [
    "# 사용자로부터 인치(inch)를 입력받아 (cm)로 변경해주는\n",
    "inch = float(input(\"인치를 입력하세요 :\"))\n",
    "cm = inch*2.54\n",
    "print(\"{} inch 는 {} cm 입니다\".format(inch,cm))"
   ]
  }
 ],
 "metadata": {
  "interpreter": {
   "hash": "054c0b5073ae8ed56926c5c67113945079b283bacf1a269ae7086b3d9eebd60c"
  },
  "kernelspec": {
   "display_name": "Python 3.10.1 64-bit",
   "language": "python",
   "name": "python3"
  },
  "language_info": {
   "codemirror_mode": {
    "name": "ipython",
    "version": 3
   },
   "file_extension": ".py",
   "mimetype": "text/x-python",
   "name": "python",
   "nbconvert_exporter": "python",
   "pygments_lexer": "ipython3",
   "version": "3.10.1"
  },
  "orig_nbformat": 4
 },
 "nbformat": 4,
 "nbformat_minor": 2
}
