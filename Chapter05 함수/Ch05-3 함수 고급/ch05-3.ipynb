{
 "cells": [
  {
   "cell_type": "markdown",
   "metadata": {},
   "source": [
    "### 튜플(tuple) 과 람다(lambda)\n"
   ]
  },
  {
   "cell_type": "markdown",
   "metadata": {},
   "source": [
    "> 튜플 (tuple)"
   ]
  },
  {
   "cell_type": "code",
   "execution_count": null,
   "metadata": {},
   "outputs": [],
   "source": [
    "# 튜플 : 함수와 함께 많이 사용되는 리스트와 비슷한 자료형,\n",
    "# 한번 결정된 요소는 바꿀수 없다!!!\n",
    "\n",
    "tu = ( 10, 20, 30 )\n",
    "tu[0]"
   ]
  },
  {
   "cell_type": "markdown",
   "metadata": {},
   "source": [
    "> 튜플과 함수"
   ]
  },
  {
   "cell_type": "code",
   "execution_count": 1,
   "metadata": {},
   "outputs": [
    {
     "name": "stdout",
     "output_type": "stream",
     "text": [
      "10 20\n"
     ]
    }
   ],
   "source": [
    "def test():\n",
    "    return (10 ,20)\n",
    "\n",
    "a, b = test()\n",
    "print(a, b)"
   ]
  },
  {
   "cell_type": "markdown",
   "metadata": {},
   "source": [
    "### 람다(lambda) : 람다표현식(익명함수) <> def"
   ]
  },
  {
   "cell_type": "markdown",
   "metadata": {},
   "source": [
    "> 함수의 매개변수로 함수 전달하기"
   ]
  },
  {
   "cell_type": "code",
   "execution_count": null,
   "metadata": {},
   "outputs": [],
   "source": [
    "def call_10_times(func):\n",
    "    for i in range(10):\n",
    "        func()\n",
    "\n",
    "\n",
    "\n",
    "def print_hello1():\n",
    "    print(\"안녕하세요\")\n",
    "\n",
    "def print_hello2():\n",
    "    print(\"안녕하세요~~~\")\n",
    "\n",
    "# 함수 콜 (매개변수로 함수를 전달)\n",
    "# call_10_times(print_hello1)\n",
    "call_10_times(print_hello2)"
   ]
  },
  {
   "cell_type": "code",
   "execution_count": null,
   "metadata": {},
   "outputs": [],
   "source": [
    "def call_10_times(func):\n",
    "    for i in range(10):\n",
    "        func()\n",
    "\n",
    "# 람다 표현식 적용\n",
    "call_10_times(lambda : print(\"hi~\"))"
   ]
  },
  {
   "cell_type": "markdown",
   "metadata": {},
   "source": [
    "> 람다 표현식으로 함수 만들기"
   ]
  },
  {
   "cell_type": "code",
   "execution_count": 3,
   "metadata": {},
   "outputs": [
    {
     "data": {
      "text/plain": [
       "11"
      ]
     },
     "execution_count": 3,
     "metadata": {},
     "output_type": "execute_result"
    }
   ],
   "source": [
    "def plus_ten(x):\n",
    "    return x + 10\n",
    "\n",
    "plus_ten(1)\n",
    "\n",
    "# lambda 매개변수 : 리턴값\n",
    "lambda      x     : x + 10"
   ]
  },
  {
   "cell_type": "code",
   "execution_count": 7,
   "metadata": {},
   "outputs": [
    {
     "name": "stdout",
     "output_type": "stream",
     "text": [
      "<class 'function'>\n"
     ]
    },
    {
     "data": {
      "text/plain": [
       "3"
      ]
     },
     "execution_count": 7,
     "metadata": {},
     "output_type": "execute_result"
    }
   ],
   "source": [
    "plus_two = lambda x : x + 2\n",
    "print(type(plus_two))\n",
    "plus_two(3)\n",
    "\n",
    "(lambda x : x + 2)(11)\n",
    "[1, 2, 3][2]"
   ]
  },
  {
   "cell_type": "code",
   "execution_count": 8,
   "metadata": {},
   "outputs": [
    {
     "ename": "SyntaxError",
     "evalue": "invalid syntax (Temp/ipykernel_30132/473809697.py, line 3)",
     "output_type": "error",
     "traceback": [
      "\u001b[1;36m  File \u001b[1;32m\"C:\\Users\\ruior\\AppData\\Local\\Temp/ipykernel_30132/473809697.py\"\u001b[1;36m, line \u001b[1;32m3\u001b[0m\n\u001b[1;33m    (lambda x : y=10 ; x+y)(1)\u001b[0m\n\u001b[1;37m                 ^\u001b[0m\n\u001b[1;31mSyntaxError\u001b[0m\u001b[1;31m:\u001b[0m invalid syntax\n"
     ]
    }
   ],
   "source": [
    "# 주의사항\n",
    "# 람다 표현식 안에서는 변수를 만들 수 없다.\n",
    "(lambda x : y=10 ; x+y)(1)"
   ]
  },
  {
   "cell_type": "markdown",
   "metadata": {},
   "source": [
    "> filter() 함수 와 map() 함수"
   ]
  },
  {
   "cell_type": "code",
   "execution_count": 11,
   "metadata": {},
   "outputs": [
    {
     "name": "stdout",
     "output_type": "stream",
     "text": [
      "map() 함수의 실행결과\n",
      "<map object at 0x000001CE84F4FB80>\n",
      "[1, 4, 9, 16, 25]\n",
      "\n",
      "filter() 함수의 실행결과\n",
      "<filter object at 0x000001CE84F4E830>\n",
      "[1, 2]\n"
     ]
    }
   ],
   "source": [
    "# 함수를 매개변수로 전달하는 대표적인 표준함수\n",
    "# map(함수, 리스트)\n",
    "# filter(함수 , 리스트)\n",
    "\n",
    "def power(item):\n",
    "    return item * item\n",
    "\n",
    "def under_3(item):\n",
    "    return item < 3\n",
    "\n",
    "li = [1, 2, 3, 4, 5]\n",
    "\n",
    "# map() 함수의 이용\n",
    "#      = map(power(item), [1, 2, 3, 4, 5])\n",
    "output = map(power, li)\n",
    "print(\"map() 함수의 실행결과\")\n",
    "print(output)\n",
    "print(list(output))\n",
    "print()\n",
    "\n",
    "# filter() 함수를 이용\n",
    "print(\"filter() 함수의 실행결과\")\n",
    "output = filter(under_3, li)\n",
    "print(output)\n",
    "print(list(output))"
   ]
  },
  {
   "cell_type": "code",
   "execution_count": 2,
   "metadata": {},
   "outputs": [
    {
     "name": "stdout",
     "output_type": "stream",
     "text": [
      "[1, 8, 27, 64, 125]\n",
      "[1, 2, 3]\n"
     ]
    }
   ],
   "source": [
    "# 인라인 람다\n",
    "li = [1, 2, 3, 4, 5]\n",
    "output = map(lambda x: x** 3 , li)\n",
    "print(list(output))\n",
    "\n",
    "output = filter(lambda x: x <= 3, li)\n",
    "print(list(output))"
   ]
  },
  {
   "cell_type": "markdown",
   "metadata": {},
   "source": [
    "### 파일 처리 : 열기, 읽기, 쓰기"
   ]
  },
  {
   "cell_type": "markdown",
   "metadata": {},
   "source": [
    "> 파일에 문자열 쓰기"
   ]
  },
  {
   "cell_type": "code",
   "execution_count": 10,
   "metadata": {},
   "outputs": [
    {
     "name": "stdout",
     "output_type": "stream",
     "text": [
      "b'ABCD' <class 'bytes'>\n",
      "0x20\n",
      "Hello World\n"
     ]
    }
   ],
   "source": [
    "sb = \"ABCD\".encode()\n",
    "print(sb, type(sb))\n",
    "\n",
    "data = b'\\x48\\x65\\x6c\\x6c\\x6f\\x20\\x57\\x6f\\x72\\x6c\\x64'\n",
    "\n",
    "print(hex(ord(' '))) # 헥사코드의 공백 찾는법\n",
    "print(data.decode())"
   ]
  },
  {
   "cell_type": "code",
   "execution_count": 21,
   "metadata": {},
   "outputs": [
    {
     "name": "stdout",
     "output_type": "stream",
     "text": [
      "<class '_io.TextIOWrapper'>\n",
      "../../../source/basic.txt w\n"
     ]
    }
   ],
   "source": [
    "# 표준 입출력 : <stdio> <iostream>\n",
    "# I.O란 컴퓨터 내부 또 외부의 장치와 프로그램 간의 데이터를 주고받는 것\n",
    "# 단방향 buffer : InputStrea , Outstream\n",
    "\n",
    "# open(\"파일경로\", '모드')\n",
    "# 모드 : w, a, r, t, b\n",
    "\n",
    "# open() -> close() 미리 작성하는 습관을 가질 것\n",
    "\n",
    "# 1. 파일 객체 얻기\n",
    "file = open(\"../../../source/basic.txt\", 'w')\n",
    "print(type(file))\n",
    "print(file.name, file.mode)\n",
    "\n",
    "# 3. 읽기/쓰기\n",
    "file.write(\"[Hello Python Programming]\\n\")\n",
    "file.write(\"Frist line...!\\n\")\n",
    "file.write(\"Second line...!\\n\")\n",
    "file.write(\"Thrid line...!\\n\")\n",
    "file.write(\"End line...!\")\n",
    "\n",
    "\n",
    "# 2. 파일 객체 닫기\n",
    "file.close() # 먼저 작성 후 가운데에 파일들을 넣어주기\n"
   ]
  },
  {
   "cell_type": "code",
   "execution_count": null,
   "metadata": {},
   "outputs": [],
   "source": [
    "fo = open(\"..\\\\..\\\\..\\\\source\\\\basic.txt\", 'r')\n",
    "# 한꺼번에 읽기 \n",
    "# text = fo.read()\n",
    "# print(text)\n",
    "\n",
    "print()\n",
    "\n",
    "# 한 줄씩 읽기\n",
    "print(1, fo.readline(), end='')\n",
    "print(2, fo.readline(), end='')\n",
    "print(3, fo.readline(), end='')\n",
    "print(4, fo.readline(), end='')\n",
    "print(5, bool(fo.readline()))\n",
    "print(6, bool(fo.readline()))\n",
    "print(7, bool(''))\n",
    "print(8, bool(fo.readline()))\n",
    "\n",
    "fo.close()"
   ]
  },
  {
   "cell_type": "code",
   "execution_count": null,
   "metadata": {},
   "outputs": [],
   "source": [
    "f = open(\"../../../source/basic.txt\", 'rt') # rt = readingtext\n",
    "lines = f.readline()\n",
    "\n",
    "for i in range(len(lines)):\n",
    "    print(f\"{1} line :\", lines[i].strip()) # .strip() : whitespace(''. \\n removed)\n",
    "\n",
    "f.close()"
   ]
  },
  {
   "cell_type": "markdown",
   "metadata": {},
   "source": [
    "> with (as) 키워드 : close 안해도 됨"
   ]
  },
  {
   "cell_type": "code",
   "execution_count": null,
   "metadata": {},
   "outputs": [],
   "source": [
    "try:\n",
    "    fo = open('basic.txt', mode = 'rt')\n",
    "    for line in fo:\n",
    "        print(line)\n",
    "finally:\n",
    "    f.close() # <- 은 반드시 실행이 됨\n",
    "\n",
    "with open('basic.txt', mode = 'rt') as fi:\n",
    "    fi.readline()"
   ]
  },
  {
   "cell_type": "markdown",
   "metadata": {},
   "source": [
    "> csv 파일 만들어서 사용하기"
   ]
  },
  {
   "cell_type": "code",
   "execution_count": 52,
   "metadata": {},
   "outputs": [],
   "source": [
    "# 텍스트를 사용하여 데이터를 구조적으로 표현하는 방법 : csv, xml, json\n",
    "# csv 파일 : 한 줄에 하나의 대이터를 나타내며, 각각의 줄은 ',' 로 데이터를 구분한다.\n",
    "# 김철수, 178, 65\n",
    "\n",
    "import random\n",
    "\n",
    "first_names = \"김이박최정강조윤장임한오서신\"\n",
    "last_names  = \"가나다라마바사아자차카타파하\"\n",
    "\n",
    "with open(\"info.csv\", 'w', encoding = 'utf-8') as f:\n",
    "    for i in range(10):\n",
    "        first = random.choice(first_names)\n",
    "        last  = random.choice(last_names) + random.choice(last_names)\n",
    "        name  = first + last\n",
    "        height = random.randrange(140, 200)\n",
    "        weight = random.randrange(40, 120)\n",
    "        f.write(\"{}, {}, {}\\n\".format(name, height, weight))"
   ]
  },
  {
   "cell_type": "code",
   "execution_count": null,
   "metadata": {},
   "outputs": [],
   "source": [
    "# BMI(비만도) : 몸무게 / 키(m)^2\n",
    "\n",
    "with open(\"info.csv\", 'r' , encoding = \"utf-8\") as fo:\n",
    "    for line in fo:\n",
    "        (name, height, weight) = line.strip().split(\", \")\n",
    "        # 데이터 유효성 검증 확인\n",
    "        if (not name) or (not weight) or (not height):\n",
    "            continue\n",
    "        # BMI 계산\n",
    "        bmi = int(weight) / (int(height)/100) ** 2\n",
    "        result = \"\"\n",
    "        if bmi >= 25 :\n",
    "            result = \"비만\"\n",
    "        elif bmi >= 23:\n",
    "            result = \"과체중\"\n",
    "        elif bmi >= 18:\n",
    "            result = \"정상\"\n",
    "        else:\n",
    "            result = \"저체중\"\n",
    "\n",
    "        str_out = '\\n'.join([\n",
    "            \"이름: {}\",\n",
    "            \"몸무게: {}\",\n",
    "            \"키: {}\",\n",
    "            \"BMI: {}\",\n",
    "            \"결과: {}\"\n",
    "            ]).format(name,weight,height,int(bmi),result)\n",
    "        print(str_out)\n",
    "        print()"
   ]
  },
  {
   "cell_type": "markdown",
   "metadata": {},
   "source": [
    "> 바이너리 파일"
   ]
  },
  {
   "cell_type": "code",
   "execution_count": 63,
   "metadata": {},
   "outputs": [],
   "source": [
    "from urllib import request\n",
    "\n",
    "target = request.urlopen(\"https://images.mypetlife.co.kr/content/uploads/2021/10/19151330/corgi-g1a1774f95_1280.jpg\")\n",
    "bin_file = target.read()\n",
    "# print(bin_file)\n",
    "\n",
    "with open(\"../../../source/dog.jpg\", 'wb') as fb:\n",
    "    fb.write(bin_file)"
   ]
  }
 ],
 "metadata": {
  "interpreter": {
   "hash": "054c0b5073ae8ed56926c5c67113945079b283bacf1a269ae7086b3d9eebd60c"
  },
  "kernelspec": {
   "display_name": "Python 3.10.1 64-bit",
   "language": "python",
   "name": "python3"
  },
  "language_info": {
   "codemirror_mode": {
    "name": "ipython",
    "version": 3
   },
   "file_extension": ".py",
   "mimetype": "text/x-python",
   "name": "python",
   "nbconvert_exporter": "python",
   "pygments_lexer": "ipython3",
   "version": "3.10.1"
  },
  "orig_nbformat": 4
 },
 "nbformat": 4,
 "nbformat_minor": 2
}
