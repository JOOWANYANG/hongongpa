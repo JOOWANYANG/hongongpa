{
 "cells": [
  {
   "cell_type": "markdown",
   "metadata": {},
   "source": [
    "## 시작하기 전에\n",
    "함수호출(함수call), 함수의 매개변수(parameter), 함수의 인자(argument)"
   ]
  },
  {
   "cell_type": "markdown",
   "metadata": {},
   "source": [
    "> 함수의 역할 : 함수는 한마디로 어떤 기능을 하는 ***코드의 집합*** 이다."
   ]
  },
  {
   "cell_type": "code",
   "execution_count": 6,
   "metadata": {},
   "outputs": [
    {
     "name": "stdout",
     "output_type": "stream",
     "text": [
      "hello~\n",
      "12.7\n",
      "hello~\n"
     ]
    }
   ],
   "source": [
    "# 1. 함수 선언(정의)    \n",
    "# def 함수명(매개변수):\n",
    "#       실행문\n",
    "\n",
    "def hello():\n",
    "    print(\"hello~\")\n",
    "...\n",
    "...\n",
    "hello()\n",
    "\n",
    "def hi(num):\n",
    "    print(\"Hi~\" * num)\n",
    "\n",
    "def to_cm(inch_val):\n",
    "    return inch_val * 2.54\n",
    "\n",
    "cm =  to_cm(5)\n",
    "print(cm)\n",
    "\n",
    "hello()\n",
    "hi(2)"
   ]
  },
  {
   "cell_type": "code",
   "execution_count": 8,
   "metadata": {},
   "outputs": [
    {
     "name": "stdout",
     "output_type": "stream",
     "text": [
      "\n"
     ]
    },
    {
     "ename": "TypeError",
     "evalue": "'str' object cannot be interpreted as an integer",
     "output_type": "error",
     "traceback": [
      "\u001b[1;31m---------------------------------------------------------------------------\u001b[0m",
      "\u001b[1;31mTypeError\u001b[0m                                 Traceback (most recent call last)",
      "\u001b[1;32m~\\AppData\\Local\\Temp/ipykernel_1924/3079553043.py\u001b[0m in \u001b[0;36m<module>\u001b[1;34m\u001b[0m\n\u001b[0;32m      7\u001b[0m \u001b[1;33m\u001b[0m\u001b[0m\n\u001b[0;32m      8\u001b[0m \u001b[1;33m\u001b[0m\u001b[0m\n\u001b[1;32m----> 9\u001b[1;33m \u001b[0mmessenger\u001b[0m\u001b[1;33m(\u001b[0m\u001b[1;34m\"열차가 들어오고 있습니다.\"\u001b[0m\u001b[1;33m,\u001b[0m \u001b[1;34m\"뒤로 물러서서 기다려 주세요\"\u001b[0m\u001b[1;33m,\u001b[0m\u001b[1;36m3\u001b[0m\u001b[1;33m,\u001b[0m\u001b[1;36m1\u001b[0m\u001b[1;33m)\u001b[0m\u001b[1;33m\u001b[0m\u001b[1;33m\u001b[0m\u001b[0m\n\u001b[0m\u001b[0;32m     10\u001b[0m \u001b[1;33m\u001b[0m\u001b[0m\n",
      "\u001b[1;32m~\\AppData\\Local\\Temp/ipykernel_1924/3079553043.py\u001b[0m in \u001b[0;36mmessenger\u001b[1;34m(cnt, *msgs)\u001b[0m\n\u001b[0;32m      1\u001b[0m \u001b[1;32mdef\u001b[0m \u001b[0mmessenger\u001b[0m\u001b[1;33m(\u001b[0m\u001b[0mcnt\u001b[0m\u001b[1;33m,\u001b[0m \u001b[1;33m*\u001b[0m\u001b[0mmsgs\u001b[0m\u001b[1;33m)\u001b[0m\u001b[1;33m:\u001b[0m\u001b[1;33m\u001b[0m\u001b[1;33m\u001b[0m\u001b[0m\n\u001b[1;32m----> 2\u001b[1;33m     \u001b[1;32mfor\u001b[0m \u001b[0mi\u001b[0m \u001b[1;32min\u001b[0m \u001b[0mrange\u001b[0m\u001b[1;33m(\u001b[0m\u001b[0mcnt\u001b[0m\u001b[1;33m)\u001b[0m\u001b[1;33m:\u001b[0m\u001b[1;33m\u001b[0m\u001b[1;33m\u001b[0m\u001b[0m\n\u001b[0m\u001b[0;32m      3\u001b[0m         \u001b[0mprint\u001b[0m\u001b[1;33m(\u001b[0m\u001b[0mi\u001b[0m \u001b[1;33m+\u001b[0m \u001b[1;36m1\u001b[0m\u001b[1;33m,\u001b[0m \u001b[1;34m\".\"\u001b[0m\u001b[1;33m)\u001b[0m\u001b[1;33m\u001b[0m\u001b[1;33m\u001b[0m\u001b[0m\n\u001b[0;32m      4\u001b[0m         \u001b[1;32mfor\u001b[0m \u001b[0mmsg\u001b[0m \u001b[1;32min\u001b[0m \u001b[0mmsgs\u001b[0m\u001b[1;33m:\u001b[0m\u001b[1;33m\u001b[0m\u001b[1;33m\u001b[0m\u001b[0m\n\u001b[0;32m      5\u001b[0m             \u001b[0mprint\u001b[0m\u001b[1;33m(\u001b[0m\u001b[0mmsg\u001b[0m\u001b[1;33m)\u001b[0m\u001b[1;33m\u001b[0m\u001b[1;33m\u001b[0m\u001b[0m\n",
      "\u001b[1;31mTypeError\u001b[0m: 'str' object cannot be interpreted as an integer"
     ]
    }
   ],
   "source": [
    "def messenger(cnt, *msgs):\n",
    "    for i in range(cnt):\n",
    "        print(i + 1, \".\")\n",
    "        for msg in msgs:\n",
    "            print(msg)\n",
    "print()\n",
    "\n",
    "\n",
    "messenger(\"열차가 들어오고 있습니다.\", \"뒤로 물러서서 기다려 주세요\",3,1)\n",
    "    \n"
   ]
  },
  {
   "cell_type": "code",
   "execution_count": 15,
   "metadata": {},
   "outputs": [
    {
     "name": "stdout",
     "output_type": "stream",
     "text": [
      "3\n",
      "15\n",
      "41\n"
     ]
    },
    {
     "data": {
      "text/plain": [
       "600"
      ]
     },
     "execution_count": 15,
     "metadata": {},
     "output_type": "execute_result"
    }
   ],
   "source": [
    "# add(1, 2)  -------> 3\n",
    "# add(1, 2, 4, 8) ------> 15\n",
    "\n",
    "def smart_add(*numbers):\n",
    "    total = 0\n",
    "    for i in (numbers):\n",
    "        total += i\n",
    "    return total\n",
    "\n",
    "print(smart_add(1,2))\n",
    "print(smart_add(1,2,4,8))\n",
    "print(smart_add(1,2,4,8,5,6,7,8))\n",
    "\n",
    "# 리스트 언패킹 사용하기(가변인자는 곧 배열)\n",
    "li = [100, 200, 300]\n",
    "smart_add(100, 200, 300)\n",
    "smart_add(*[100, 200, 300])\n",
    "smart_add(*li)\n",
    "\n",
    "\n",
    "\n"
   ]
  },
  {
   "cell_type": "code",
   "execution_count": 23,
   "metadata": {},
   "outputs": [
    {
     "name": "stdout",
     "output_type": "stream",
     "text": [
      "사용자가 입력한 정수 목록 = [1, 14]\n",
      "정수들의 총합 = 15\n"
     ]
    }
   ],
   "source": [
    "# 사용자로부터 입력받은 모든 정수의 합을 구하는 프로그램 작성(함수로 구현)\n",
    "user_list = input(\"여러 정수를 입력하세요\").split()\n",
    "int_list = [int(ch) for ch in user_list]\n",
    "\n",
    "print(\"사용자가 입력한 정수 목록 =\", int_list)\n",
    "print(\"정수들의 총합 =\", smart_add(*int_list))"
   ]
  },
  {
   "cell_type": "markdown",
   "metadata": {},
   "source": [
    "> 키워드 인수 사용하기"
   ]
  },
  {
   "cell_type": "code",
   "execution_count": 28,
   "metadata": {},
   "outputs": [
    {
     "name": "stdout",
     "output_type": "stream",
     "text": [
      "이름 : 비트캠프\n",
      "나이 : 30\n",
      "주소 : 서울 강남구\n",
      "\n",
      "이름 : 30\n",
      "나이 : 서울 강남구\n",
      "주소 : 비트캠프\n"
     ]
    }
   ],
   "source": [
    "# print(value , ... , sep=' ', end='\\n , file=sus.stdout, flush=False)\n",
    "\n",
    "def personal_info(name, age, address):\n",
    "    print(\"이름 :\", name)\n",
    "    print(\"나이 :\", age)\n",
    "    print(\"주소 :\", address)\n",
    "\n",
    "personal_info(\"비트캠프\", 30, \"서울 강남구\")\n",
    "print()\n",
    "personal_info(30, \"서울 강남구\", \"비트캠프\")"
   ]
  },
  {
   "cell_type": "code",
   "execution_count": 30,
   "metadata": {},
   "outputs": [
    {
     "name": "stdout",
     "output_type": "stream",
     "text": [
      "이름 : 비트\n",
      "나이 : 30\n",
      "주소 : 서울\n"
     ]
    }
   ],
   "source": [
    "personal_info(age = 30, address ='서울' , name = '비트') # 키설정은 순서 바껴도 상관없음 "
   ]
  },
  {
   "cell_type": "code",
   "execution_count": null,
   "metadata": {},
   "outputs": [],
   "source": [
    "di = {\"name\":\"비트캠프3\", \"age\":10, \"address\":\"경남\"}"
   ]
  },
  {
   "cell_type": "markdown",
   "metadata": {},
   "source": [
    "> 매개변수에 초깃값 지정하기"
   ]
  },
  {
   "cell_type": "code",
   "execution_count": null,
   "metadata": {},
   "outputs": [],
   "source": [
    "print('a','b','c')\n",
    "print('a','b','c', )\n",
    "print('a','b','c')"
   ]
  }
 ],
 "metadata": {
  "interpreter": {
   "hash": "054c0b5073ae8ed56926c5c67113945079b283bacf1a269ae7086b3d9eebd60c"
  },
  "kernelspec": {
   "display_name": "Python 3.10.1 64-bit",
   "language": "python",
   "name": "python3"
  },
  "language_info": {
   "codemirror_mode": {
    "name": "ipython",
    "version": 3
   },
   "file_extension": ".py",
   "mimetype": "text/x-python",
   "name": "python",
   "nbconvert_exporter": "python",
   "pygments_lexer": "ipython3",
   "version": "3.10.1"
  },
  "orig_nbformat": 4
 },
 "nbformat": 4,
 "nbformat_minor": 2
}
